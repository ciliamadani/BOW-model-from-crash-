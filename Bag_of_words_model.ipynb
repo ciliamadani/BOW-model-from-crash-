{
 "cells": [
  {
   "cell_type": "code",
   "execution_count": 1,
   "metadata": {},
   "outputs": [],
   "source": [
    "import numpy as np\n",
    "import pandas as pd\n",
    "from nltk.tokenize import sent_tokenize, word_tokenize \n",
    "from sklearn.datasets import fetch_20newsgroups"
   ]
  },
  {
   "cell_type": "code",
   "execution_count": 49,
   "metadata": {},
   "outputs": [],
   "source": [
    "## Create a Dictionary of Word Frequency\n",
    "\n",
    "def create_dictionary(sentences):\n",
    "    dic = {}\n",
    "    \n",
    "    for s in sentences:\n",
    "        ## Tokenization \n",
    "        tokens = nltk.word_tokenize(s)\n",
    "\n",
    "        ## Insert tokens in dectionary \n",
    "        for token in tokens:\n",
    "            #print(token)\n",
    "            if token not in dic.keys():\n",
    "                dic[token]=1\n",
    "            else:\n",
    "                dic[token]+=1\n",
    "    return dic\n",
    "    "
   ]
  },
  {
   "cell_type": "code",
   "execution_count": null,
   "metadata": {},
   "outputs": [],
   "source": [
    "#Creating the Bag of Words Model\n",
    "#We need to create a matrix where the columns correspond to the most frequent words in our dictionary where rows \n",
    "#correspond to the document or sentences."
   ]
  },
  {
   "cell_type": "code",
   "execution_count": 142,
   "metadata": {},
   "outputs": [],
   "source": [
    "def create_bag_of_words_model(Sentences):\n",
    "    \n",
    "    ## Create the vocabulaty \n",
    "    vocabulary = create_dictionary(Sentences)\n",
    "    \n",
    "    ## We can here sort the dictionary based on the words frequency \n",
    "    pass \n",
    "\n",
    "    ## Create a dataframe to hold data \n",
    "    ## Columns are the words (or most used words, depends what to choose)\n",
    "\n",
    "    df = pd.DataFrame(columns =list(vocabulary.keys()), index=Sentences)\n",
    "    #print(vocabulary.keys())\n",
    "    \n",
    "    ## Create a matrix of the new data \n",
    "    for x in df.index:\n",
    "        for c in df.columns:\n",
    "            \n",
    "            if c in x:\n",
    "                df.loc[x][c]=1\n",
    "            else:\n",
    "                df.loc[x][c]=0\n",
    "\n",
    "    return df \n",
    "    "
   ]
  },
  {
   "cell_type": "code",
   "execution_count": 146,
   "metadata": {},
   "outputs": [],
   "source": [
    "def transform (Sentences, vocabulary):\n",
    "    \n",
    "    df = pd.DataFrame(columns =vocabulary, index=Sentences)\n",
    "    #print(vocabulary.keys())\n",
    "    \n",
    "    ## Create a matrix of the new data \n",
    "    for x in df.index:\n",
    "        for c in df.columns:\n",
    "            \n",
    "            if c in x:\n",
    "                df.loc[x][c]=1\n",
    "            else:\n",
    "                df.loc[x][c]=0\n",
    "\n",
    "    return df \n",
    "    "
   ]
  },
  {
   "cell_type": "code",
   "execution_count": 127,
   "metadata": {},
   "outputs": [
    {
     "name": "stderr",
     "output_type": "stream",
     "text": [
      "Downloading 20news dataset. This may take a few minutes.\n",
      "Downloading dataset from https://ndownloader.figshare.com/files/5975967 (14 MB)\n"
     ]
    }
   ],
   "source": [
    "newsgroups_train = fetch_20newsgroups(subset='train')"
   ]
  },
  {
   "cell_type": "code",
   "execution_count": 131,
   "metadata": {},
   "outputs": [
    {
     "data": {
      "text/plain": [
       "['alt.atheism',\n",
       " 'comp.graphics',\n",
       " 'comp.os.ms-windows.misc',\n",
       " 'comp.sys.ibm.pc.hardware',\n",
       " 'comp.sys.mac.hardware',\n",
       " 'comp.windows.x',\n",
       " 'misc.forsale',\n",
       " 'rec.autos',\n",
       " 'rec.motorcycles',\n",
       " 'rec.sport.baseball',\n",
       " 'rec.sport.hockey',\n",
       " 'sci.crypt',\n",
       " 'sci.electronics',\n",
       " 'sci.med',\n",
       " 'sci.space',\n",
       " 'soc.religion.christian',\n",
       " 'talk.politics.guns',\n",
       " 'talk.politics.mideast',\n",
       " 'talk.politics.misc',\n",
       " 'talk.religion.misc']"
      ]
     },
     "execution_count": 131,
     "metadata": {},
     "output_type": "execute_result"
    }
   ],
   "source": [
    "newsgroups_train.target_names"
   ]
  },
  {
   "cell_type": "code",
   "execution_count": 132,
   "metadata": {},
   "outputs": [
    {
     "data": {
      "text/plain": [
       "\"From: lerxst@wam.umd.edu (where's my thing)\\nSubject: WHAT car is this!?\\nNntp-Posting-Host: rac3.wam.umd.edu\\nOrganization: University of Maryland, College Park\\nLines: 15\\n\\n I was wondering if anyone out there could enlighten me on this car I saw\\nthe other day. It was a 2-door sports car, looked to be from the late 60s/\\nearly 70s. It was called a Bricklin. The doors were really small. In addition,\\nthe front bumper was separate from the rest of the body. This is \\nall I know. If anyone can tellme a model name, engine specs, years\\nof production, where this car is made, history, or whatever info you\\nhave on this funky looking car, please e-mail.\\n\\nThanks,\\n- IL\\n   ---- brought to you by your neighborhood Lerxst ----\\n\\n\\n\\n\\n\""
      ]
     },
     "execution_count": 132,
     "metadata": {},
     "output_type": "execute_result"
    }
   ],
   "source": [
    "newsgroups_train.data[0]"
   ]
  },
  {
   "cell_type": "code",
   "execution_count": 160,
   "metadata": {},
   "outputs": [],
   "source": [
    "df2 = create_bag_of_words_model(newsgroups_train.data[:300])"
   ]
  },
  {
   "cell_type": "code",
   "execution_count": 134,
   "metadata": {},
   "outputs": [
    {
     "data": {
      "text/html": [
       "<div>\n",
       "<style scoped>\n",
       "    .dataframe tbody tr th:only-of-type {\n",
       "        vertical-align: middle;\n",
       "    }\n",
       "\n",
       "    .dataframe tbody tr th {\n",
       "        vertical-align: top;\n",
       "    }\n",
       "\n",
       "    .dataframe thead th {\n",
       "        text-align: right;\n",
       "    }\n",
       "</style>\n",
       "<table border=\"1\" class=\"dataframe\">\n",
       "  <thead>\n",
       "    <tr style=\"text-align: right;\">\n",
       "      <th></th>\n",
       "      <th>From</th>\n",
       "      <th>:</th>\n",
       "      <th>lerxst</th>\n",
       "      <th>@</th>\n",
       "      <th>wam.umd.edu</th>\n",
       "      <th>(</th>\n",
       "      <th>where</th>\n",
       "      <th>'s</th>\n",
       "      <th>my</th>\n",
       "      <th>thing</th>\n",
       "      <th>...</th>\n",
       "      <th>Communications</th>\n",
       "      <th>Services</th>\n",
       "      <th>Office</th>\n",
       "      <th>U</th>\n",
       "      <th>Illinois/Urbana</th>\n",
       "      <th>Phone</th>\n",
       "      <th>217-333-5217</th>\n",
       "      <th>Email</th>\n",
       "      <th>stankerr</th>\n",
       "      <th>uiuc.edu</th>\n",
       "    </tr>\n",
       "  </thead>\n",
       "  <tbody>\n",
       "    <tr>\n",
       "      <td>From: lerxst@wam.umd.edu (where's my thing)\\nSubject: WHAT car is this!?\\nNntp-Posting-Host: rac3.wam.umd.edu\\nOrganization: University of Maryland, College Park\\nLines: 15\\n\\n I was wondering if anyone out there could enlighten me on this car I saw\\nthe other day. It was a 2-door sports car, looked to be from the late 60s/\\nearly 70s. It was called a Bricklin. The doors were really small. In addition,\\nthe front bumper was separate from the rest of the body. This is \\nall I know. If anyone can tellme a model name, engine specs, years\\nof production, where this car is made, history, or whatever info you\\nhave on this funky looking car, please e-mail.\\n\\nThanks,\\n- IL\\n   ---- brought to you by your neighborhood Lerxst ----\\n\\n\\n\\n\\n</td>\n",
       "      <td>1</td>\n",
       "      <td>1</td>\n",
       "      <td>1</td>\n",
       "      <td>1</td>\n",
       "      <td>1</td>\n",
       "      <td>1</td>\n",
       "      <td>1</td>\n",
       "      <td>1</td>\n",
       "      <td>1</td>\n",
       "      <td>1</td>\n",
       "      <td>...</td>\n",
       "      <td>0</td>\n",
       "      <td>0</td>\n",
       "      <td>0</td>\n",
       "      <td>1</td>\n",
       "      <td>0</td>\n",
       "      <td>0</td>\n",
       "      <td>0</td>\n",
       "      <td>0</td>\n",
       "      <td>0</td>\n",
       "      <td>0</td>\n",
       "    </tr>\n",
       "    <tr>\n",
       "      <td>From: guykuo@carson.u.washington.edu (Guy Kuo)\\nSubject: SI Clock Poll - Final Call\\nSummary: Final call for SI clock reports\\nKeywords: SI,acceleration,clock,upgrade\\nArticle-I.D.: shelley.1qvfo9INNc3s\\nOrganization: University of Washington\\nLines: 11\\nNNTP-Posting-Host: carson.u.washington.edu\\n\\nA fair number of brave souls who upgraded their SI clock oscillator have\\nshared their experiences for this poll. Please send a brief message detailing\\nyour experiences with the procedure. Top speed attained, CPU rated speed,\\nadd on cards and adapters, heat sinks, hour of usage per day, floppy disk\\nfunctionality with 800 and 1.4 m floppies are especially requested.\\n\\nI will be summarizing in the next two days, so please add to the network\\nknowledge base if you have done the clock upgrade and haven't answered this\\npoll. Thanks.\\n\\nGuy Kuo &lt;guykuo@u.washington.edu&gt;\\n</td>\n",
       "      <td>1</td>\n",
       "      <td>1</td>\n",
       "      <td>0</td>\n",
       "      <td>1</td>\n",
       "      <td>0</td>\n",
       "      <td>1</td>\n",
       "      <td>0</td>\n",
       "      <td>0</td>\n",
       "      <td>0</td>\n",
       "      <td>0</td>\n",
       "      <td>...</td>\n",
       "      <td>0</td>\n",
       "      <td>0</td>\n",
       "      <td>0</td>\n",
       "      <td>1</td>\n",
       "      <td>0</td>\n",
       "      <td>0</td>\n",
       "      <td>0</td>\n",
       "      <td>0</td>\n",
       "      <td>0</td>\n",
       "      <td>0</td>\n",
       "    </tr>\n",
       "    <tr>\n",
       "      <td>From: twillis@ec.ecn.purdue.edu (Thomas E Willis)\\nSubject: PB questions...\\nOrganization: Purdue University Engineering Computer Network\\nDistribution: usa\\nLines: 36\\n\\nwell folks, my mac plus finally gave up the ghost this weekend after\\nstarting life as a 512k way back in 1985.  sooo, i'm in the market for a\\nnew machine a bit sooner than i intended to be...\\n\\ni'm looking into picking up a powerbook 160 or maybe 180 and have a bunch\\nof questions that (hopefully) somebody can answer:\\n\\n* does anybody know any dirt on when the next round of powerbook\\nintroductions are expected?  i'd heard the 185c was supposed to make an\\nappearence \"this summer\" but haven't heard anymore on it - and since i\\ndon't have access to macleak, i was wondering if anybody out there had\\nmore info...\\n\\n* has anybody heard rumors about price drops to the powerbook line like the\\nones the duo's just went through recently?\\n\\n* what's the impression of the display on the 180?  i could probably swing\\na 180 if i got the 80Mb disk rather than the 120, but i don't really have\\na feel for how much \"better\" the display is (yea, it looks great in the\\nstore, but is that all \"wow\" or is it really that good?).  could i solicit\\nsome opinions of people who use the 160 and 180 day-to-day on if its worth\\ntaking the disk size and money hit to get the active display?  (i realize\\nthis is a real subjective question, but i've only played around with the\\nmachines in a computer store breifly and figured the opinions of somebody\\nwho actually uses the machine daily might prove helpful).\\n\\n* how well does hellcats perform?  ;)\\n\\nthanks a bunch in advance for any info - if you could email, i'll post a\\nsummary (news reading time is at a premium with finals just around the\\ncorner... :( )\\n--\\nTom Willis  \\  twillis@ecn.purdue.edu    \\    Purdue Electrical Engineering\\n---------------------------------------------------------------------------\\n\"Convictions are more dangerous enemies of truth than lies.\"  - F. W.\\nNietzsche\\n</td>\n",
       "      <td>1</td>\n",
       "      <td>1</td>\n",
       "      <td>0</td>\n",
       "      <td>1</td>\n",
       "      <td>0</td>\n",
       "      <td>1</td>\n",
       "      <td>0</td>\n",
       "      <td>1</td>\n",
       "      <td>1</td>\n",
       "      <td>0</td>\n",
       "      <td>...</td>\n",
       "      <td>0</td>\n",
       "      <td>0</td>\n",
       "      <td>0</td>\n",
       "      <td>1</td>\n",
       "      <td>0</td>\n",
       "      <td>0</td>\n",
       "      <td>0</td>\n",
       "      <td>0</td>\n",
       "      <td>0</td>\n",
       "      <td>0</td>\n",
       "    </tr>\n",
       "    <tr>\n",
       "      <td>From: jgreen@amber (Joe Green)\\nSubject: Re: Weitek P9000 ?\\nOrganization: Harris Computer Systems Division\\nLines: 14\\nDistribution: world\\nNNTP-Posting-Host: amber.ssd.csd.harris.com\\nX-Newsreader: TIN [version 1.1 PL9]\\n\\nRobert J.C. Kyanko (rob@rjck.UUCP) wrote:\\n&gt; abraxis@iastate.edu writes in article &lt;abraxis.734340159@class1.iastate.edu&gt;:\\n&gt; &gt; Anyone know about the Weitek P9000 graphics chip?\\n&gt; As far as the low-level stuff goes, it looks pretty nice.  It's got this\\n&gt; quadrilateral fill command that requires just the four points.\\n\\nDo you have Weitek's address/phone number?  I'd like to get some information\\nabout this chip.\\n\\n--\\nJoe Green\\t\\t\\t\\tHarris Corporation\\njgreen@csd.harris.com\\t\\t\\tComputer Systems Division\\n\"The only thing that really scares me is a person with no sense of humor.\"\\n\\t\\t\\t\\t\\t\\t-- Jonathan Winters\\n</td>\n",
       "      <td>1</td>\n",
       "      <td>1</td>\n",
       "      <td>0</td>\n",
       "      <td>1</td>\n",
       "      <td>0</td>\n",
       "      <td>1</td>\n",
       "      <td>0</td>\n",
       "      <td>1</td>\n",
       "      <td>0</td>\n",
       "      <td>1</td>\n",
       "      <td>...</td>\n",
       "      <td>0</td>\n",
       "      <td>0</td>\n",
       "      <td>0</td>\n",
       "      <td>1</td>\n",
       "      <td>0</td>\n",
       "      <td>0</td>\n",
       "      <td>0</td>\n",
       "      <td>0</td>\n",
       "      <td>0</td>\n",
       "      <td>0</td>\n",
       "    </tr>\n",
       "    <tr>\n",
       "      <td>From: jcm@head-cfa.harvard.edu (Jonathan McDowell)\\nSubject: Re: Shuttle Launch Question\\nOrganization: Smithsonian Astrophysical Observatory, Cambridge, MA,  USA\\nDistribution: sci\\nLines: 23\\n\\nFrom article &lt;C5owCB.n3p@world.std.com&gt;, by tombaker@world.std.com (Tom A Baker):\\n&gt;&gt;In article &lt;C5JLwx.4H9.1@cs.cmu.edu&gt;, ETRAT@ttacs1.ttu.edu (Pack Rat) writes...\\n&gt;&gt;&gt;\"Clear caution &amp; warning memory.  Verify no unexpected\\n&gt;&gt;&gt;errors. ...\".  I am wondering what an \"expected error\" might\\n&gt;&gt;&gt;be.  Sorry if this is a really dumb question, but\\n&gt; \\n&gt; Parity errors in memory or previously known conditions that were waivered.\\n&gt;    \"Yes that is an error, but we already knew about it\"\\n&gt; I'd be curious as to what the real meaning of the quote is.\\n&gt; \\n&gt; tom\\n\\n\\nMy understanding is that the 'expected errors' are basically\\nknown bugs in the warning system software - things are checked\\nthat don't have the right values in yet because they aren't\\nset till after launch, and suchlike. Rather than fix the code\\nand possibly introduce new bugs, they just tell the crew\\n'ok, if you see a warning no. 213 before liftoff, ignore it'.\\n\\n - Jonathan\\n\\n\\n</td>\n",
       "      <td>1</td>\n",
       "      <td>1</td>\n",
       "      <td>0</td>\n",
       "      <td>1</td>\n",
       "      <td>0</td>\n",
       "      <td>1</td>\n",
       "      <td>0</td>\n",
       "      <td>0</td>\n",
       "      <td>0</td>\n",
       "      <td>1</td>\n",
       "      <td>...</td>\n",
       "      <td>0</td>\n",
       "      <td>0</td>\n",
       "      <td>0</td>\n",
       "      <td>1</td>\n",
       "      <td>0</td>\n",
       "      <td>0</td>\n",
       "      <td>0</td>\n",
       "      <td>0</td>\n",
       "      <td>0</td>\n",
       "      <td>0</td>\n",
       "    </tr>\n",
       "  </tbody>\n",
       "</table>\n",
       "<p>5 rows × 992 columns</p>\n",
       "</div>"
      ],
      "text/plain": [
       "                                                   From  : lerxst  @  \\\n",
       "From: lerxst@wam.umd.edu (where's my thing)\\nSu...    1  1      1  1   \n",
       "From: guykuo@carson.u.washington.edu (Guy Kuo)\\...    1  1      0  1   \n",
       "From: twillis@ec.ecn.purdue.edu (Thomas E Willi...    1  1      0  1   \n",
       "From: jgreen@amber (Joe Green)\\nSubject: Re: We...    1  1      0  1   \n",
       "From: jcm@head-cfa.harvard.edu (Jonathan McDowe...    1  1      0  1   \n",
       "\n",
       "                                                   wam.umd.edu  ( where 's my  \\\n",
       "From: lerxst@wam.umd.edu (where's my thing)\\nSu...           1  1     1  1  1   \n",
       "From: guykuo@carson.u.washington.edu (Guy Kuo)\\...           0  1     0  0  0   \n",
       "From: twillis@ec.ecn.purdue.edu (Thomas E Willi...           0  1     0  1  1   \n",
       "From: jgreen@amber (Joe Green)\\nSubject: Re: We...           0  1     0  1  0   \n",
       "From: jcm@head-cfa.harvard.edu (Jonathan McDowe...           0  1     0  0  0   \n",
       "\n",
       "                                                   thing  ... Communications  \\\n",
       "From: lerxst@wam.umd.edu (where's my thing)\\nSu...     1  ...              0   \n",
       "From: guykuo@carson.u.washington.edu (Guy Kuo)\\...     0  ...              0   \n",
       "From: twillis@ec.ecn.purdue.edu (Thomas E Willi...     0  ...              0   \n",
       "From: jgreen@amber (Joe Green)\\nSubject: Re: We...     1  ...              0   \n",
       "From: jcm@head-cfa.harvard.edu (Jonathan McDowe...     1  ...              0   \n",
       "\n",
       "                                                   Services Office  U  \\\n",
       "From: lerxst@wam.umd.edu (where's my thing)\\nSu...        0      0  1   \n",
       "From: guykuo@carson.u.washington.edu (Guy Kuo)\\...        0      0  1   \n",
       "From: twillis@ec.ecn.purdue.edu (Thomas E Willi...        0      0  1   \n",
       "From: jgreen@amber (Joe Green)\\nSubject: Re: We...        0      0  1   \n",
       "From: jcm@head-cfa.harvard.edu (Jonathan McDowe...        0      0  1   \n",
       "\n",
       "                                                   Illinois/Urbana Phone  \\\n",
       "From: lerxst@wam.umd.edu (where's my thing)\\nSu...               0     0   \n",
       "From: guykuo@carson.u.washington.edu (Guy Kuo)\\...               0     0   \n",
       "From: twillis@ec.ecn.purdue.edu (Thomas E Willi...               0     0   \n",
       "From: jgreen@amber (Joe Green)\\nSubject: Re: We...               0     0   \n",
       "From: jcm@head-cfa.harvard.edu (Jonathan McDowe...               0     0   \n",
       "\n",
       "                                                   217-333-5217 Email  \\\n",
       "From: lerxst@wam.umd.edu (where's my thing)\\nSu...            0     0   \n",
       "From: guykuo@carson.u.washington.edu (Guy Kuo)\\...            0     0   \n",
       "From: twillis@ec.ecn.purdue.edu (Thomas E Willi...            0     0   \n",
       "From: jgreen@amber (Joe Green)\\nSubject: Re: We...            0     0   \n",
       "From: jcm@head-cfa.harvard.edu (Jonathan McDowe...            0     0   \n",
       "\n",
       "                                                   stankerr uiuc.edu  \n",
       "From: lerxst@wam.umd.edu (where's my thing)\\nSu...        0        0  \n",
       "From: guykuo@carson.u.washington.edu (Guy Kuo)\\...        0        0  \n",
       "From: twillis@ec.ecn.purdue.edu (Thomas E Willi...        0        0  \n",
       "From: jgreen@amber (Joe Green)\\nSubject: Re: We...        0        0  \n",
       "From: jcm@head-cfa.harvard.edu (Jonathan McDowe...        0        0  \n",
       "\n",
       "[5 rows x 992 columns]"
      ]
     },
     "execution_count": 134,
     "metadata": {},
     "output_type": "execute_result"
    }
   ],
   "source": [
    "df2.head()"
   ]
  },
  {
   "cell_type": "code",
   "execution_count": 161,
   "metadata": {},
   "outputs": [],
   "source": [
    "from sklearn.ensemble import RandomForestClassifier\n",
    "\n",
    "forest = RandomForestClassifier()\n",
    "model = forest.fit(df2, newsgroups_train.target[:300])"
   ]
  },
  {
   "cell_type": "code",
   "execution_count": 162,
   "metadata": {},
   "outputs": [],
   "source": [
    "predict = model.predict(transform(newsgroups_train.data[400:500],df2.columns))"
   ]
  },
  {
   "cell_type": "code",
   "execution_count": 163,
   "metadata": {},
   "outputs": [],
   "source": [
    "labels = newsgroups_train.target[400:500]"
   ]
  },
  {
   "cell_type": "code",
   "execution_count": 164,
   "metadata": {},
   "outputs": [],
   "source": [
    "from sklearn.metrics import accuracy_score"
   ]
  },
  {
   "cell_type": "code",
   "execution_count": 165,
   "metadata": {},
   "outputs": [
    {
     "name": "stdout",
     "output_type": "stream",
     "text": [
      "0.45\n"
     ]
    }
   ],
   "source": [
    "score = accuracy_score(predict,labels)\n",
    "print(score)"
   ]
  },
  {
   "cell_type": "code",
   "execution_count": null,
   "metadata": {},
   "outputs": [],
   "source": []
  }
 ],
 "metadata": {
  "kernelspec": {
   "display_name": "Python 3",
   "language": "python",
   "name": "python3"
  },
  "language_info": {
   "codemirror_mode": {
    "name": "ipython",
    "version": 3
   },
   "file_extension": ".py",
   "mimetype": "text/x-python",
   "name": "python",
   "nbconvert_exporter": "python",
   "pygments_lexer": "ipython3",
   "version": "3.7.4"
  }
 },
 "nbformat": 4,
 "nbformat_minor": 2
}
